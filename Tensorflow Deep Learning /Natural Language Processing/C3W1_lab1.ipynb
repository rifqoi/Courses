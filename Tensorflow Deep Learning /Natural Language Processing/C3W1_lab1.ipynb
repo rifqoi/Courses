{
 "cells": [
  {
   "cell_type": "code",
   "execution_count": 3,
   "metadata": {},
   "outputs": [
    {
     "name": "stdout",
     "output_type": "stream",
     "text": [
      "{'<OOV>': 1, 'love': 2, 'my': 3, 'i': 4, 'dog': 5, 'you': 6, 'cats': 7, 'bruh': 8, 'moment': 9, 'do': 10, 'think': 11, 'zucc': 12, 'is': 13, 'a': 14, 'lizard': 15, 'brethren': 16}\n"
     ]
    }
   ],
   "source": [
    "from tensorflow.keras.preprocessing.text import Tokenizer\n",
    "from tensorflow.keras.preprocessing.sequence import pad_sequences\n",
    "from IPython.display import display\n",
    "\n",
    "sentences = [\n",
    "    'I love my dog',\n",
    "    'I love my cats',\n",
    "    'You love my dog',\n",
    "    'Bruh Moment',\n",
    "    'Do you think Zucc is a lizard brethren?'\n",
    "]\n",
    "\n",
    "tokenizer = Tokenizer(num_words=100, oov_token='<OOV>')\n",
    "tokenizer.fit_on_texts(sentences)\n",
    "\n",
    "word_index = tokenizer.word_index\n",
    "\n",
    "print(word_index)"
   ]
  },
  {
   "cell_type": "code",
   "execution_count": 4,
   "metadata": {},
   "outputs": [
    {
     "name": "stdout",
     "output_type": "stream",
     "text": [
      "{'<OOV>': 1, 'love': 2, 'my': 3, 'i': 4, 'dog': 5, 'you': 6, 'cats': 7, 'bruh': 8, 'moment': 9, 'do': 10, 'think': 11, 'zucc': 12, 'is': 13, 'a': 14, 'lizard': 15, 'brethren': 16}\n",
      "[[4, 2, 3, 5], [4, 2, 3, 7], [6, 2, 3, 5], [8, 9], [10, 6, 11, 12, 13, 14, 15, 16]]\n"
     ]
    }
   ],
   "source": [
    "sequences = tokenizer.texts_to_sequences(sentences)\n",
    "print(word_index)\n",
    "print(sequences)"
   ]
  },
  {
   "cell_type": "code",
   "execution_count": 5,
   "metadata": {},
   "outputs": [
    {
     "name": "stdout",
     "output_type": "stream",
     "text": [
      "{'<OOV>': 1, 'love': 2, 'my': 3, 'i': 4, 'dog': 5, 'you': 6, 'cats': 7, 'bruh': 8, 'moment': 9, 'do': 10, 'think': 11, 'zucc': 12, 'is': 13, 'a': 14, 'lizard': 15, 'brethren': 16}\n",
      "[[4, 1, 2, 3, 5, 8], [1, 1], [12, 1, 1, 1]]\n"
     ]
    }
   ],
   "source": [
    "test_data = [\n",
    "    'i really love my dog bruh',\n",
    "    'deez nuts',\n",
    "    'zucc controlling the world'\n",
    "]\n",
    "\n",
    "test_seq = tokenizer.texts_to_sequences(test_data)\n",
    "print(word_index)\n",
    "print(test_seq)"
   ]
  },
  {
   "cell_type": "code",
   "execution_count": 8,
   "metadata": {},
   "outputs": [
    {
     "data": {
      "text/plain": [
       "array([[ 4,  1,  2,  3,  5,  8],\n",
       "       [ 1,  1,  0,  0,  0,  0],\n",
       "       [12,  1,  1,  1,  0,  0]], dtype=int32)"
      ]
     },
     "metadata": {},
     "output_type": "display_data"
    },
    {
     "data": {
      "text/plain": [
       "array([[ 4,  1,  2,  3,  5],\n",
       "       [ 1,  1,  0,  0,  0],\n",
       "       [12,  1,  1,  1,  0]], dtype=int32)"
      ]
     },
     "metadata": {},
     "output_type": "display_data"
    },
    {
     "data": {
      "text/plain": [
       "array([[ 1,  2,  3,  5,  8],\n",
       "       [ 0,  0,  0,  1,  1],\n",
       "       [ 0, 12,  1,  1,  1]], dtype=int32)"
      ]
     },
     "metadata": {},
     "output_type": "display_data"
    }
   ],
   "source": [
    "# Use padding to uniform sequences to matrix to fit the input layer to the hidden layer\n",
    "pad_seq = pad_sequences(test_seq, padding='post', truncating='post')\n",
    "display(pad_seq)\n",
    "pad_seq = pad_sequences(test_seq, padding='post',  maxlen=5, truncating='post')\n",
    "display(pad_seq)\n",
    "pad_seq = pad_sequences(test_seq, padding='pre',  maxlen=5, truncating='pre')\n",
    "display(pad_seq)"
   ]
  },
  {
   "cell_type": "code",
   "execution_count": null,
   "metadata": {},
   "outputs": [],
   "source": []
  },
  {
   "cell_type": "code",
   "execution_count": null,
   "metadata": {},
   "outputs": [],
   "source": []
  }
 ],
 "metadata": {
  "interpreter": {
   "hash": "76e39de724ec8c75e9db06a483da7fa5d2114d3b30a17883cdeb1cb92ee4b8ea"
  },
  "kernelspec": {
   "display_name": "Python 3.9.7 ('data-exercises')",
   "language": "python",
   "name": "python3"
  },
  "language_info": {
   "codemirror_mode": {
    "name": "ipython",
    "version": 3
   },
   "file_extension": ".py",
   "mimetype": "text/x-python",
   "name": "python",
   "nbconvert_exporter": "python",
   "pygments_lexer": "ipython3",
   "version": "3.9.7"
  },
  "orig_nbformat": 4
 },
 "nbformat": 4,
 "nbformat_minor": 2
}
